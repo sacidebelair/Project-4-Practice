{
 "cells": [
  {
   "cell_type": "code",
   "execution_count": 12,
   "id": "f5e431fa",
   "metadata": {},
   "outputs": [],
   "source": [
    "import pandas as pd \n",
    "from pathlib import Path \n",
    "\n",
    "import matplotlib.pyplot as plt\n",
    "import numpy as np\n",
    "from scipy.stats import linregress"
   ]
  },
  {
   "cell_type": "code",
   "execution_count": 13,
   "id": "d307a30b",
   "metadata": {},
   "outputs": [
    {
     "data": {
      "text/html": [
       "<div>\n",
       "<style scoped>\n",
       "    .dataframe tbody tr th:only-of-type {\n",
       "        vertical-align: middle;\n",
       "    }\n",
       "\n",
       "    .dataframe tbody tr th {\n",
       "        vertical-align: top;\n",
       "    }\n",
       "\n",
       "    .dataframe thead th {\n",
       "        text-align: right;\n",
       "    }\n",
       "</style>\n",
       "<table border=\"1\" class=\"dataframe\">\n",
       "  <thead>\n",
       "    <tr style=\"text-align: right;\">\n",
       "      <th></th>\n",
       "      <th>trans_date_trans_time</th>\n",
       "      <th>merchant</th>\n",
       "      <th>category</th>\n",
       "      <th>amt</th>\n",
       "      <th>city</th>\n",
       "      <th>state</th>\n",
       "      <th>lat</th>\n",
       "      <th>long</th>\n",
       "      <th>city_pop</th>\n",
       "      <th>job</th>\n",
       "      <th>dob</th>\n",
       "      <th>trans_num</th>\n",
       "      <th>merch_lat</th>\n",
       "      <th>merch_long</th>\n",
       "      <th>is_fraud</th>\n",
       "    </tr>\n",
       "  </thead>\n",
       "  <tbody>\n",
       "    <tr>\n",
       "      <th>0</th>\n",
       "      <td>04-01-2019 00:58</td>\n",
       "      <td>\"Stokes, Christiansen and Sipes\"</td>\n",
       "      <td>grocery_net</td>\n",
       "      <td>14.37</td>\n",
       "      <td>Wales</td>\n",
       "      <td>AK</td>\n",
       "      <td>64.7556</td>\n",
       "      <td>-165.6723</td>\n",
       "      <td>145</td>\n",
       "      <td>\"Administrator, education\"</td>\n",
       "      <td>09-11-1939</td>\n",
       "      <td>a3806e984cec6ac0096d8184c64ad3a1</td>\n",
       "      <td>65.654142</td>\n",
       "      <td>-164.722603</td>\n",
       "      <td>1</td>\n",
       "    </tr>\n",
       "    <tr>\n",
       "      <th>1</th>\n",
       "      <td>04-01-2019 15:06</td>\n",
       "      <td>Predovic Inc</td>\n",
       "      <td>shopping_net</td>\n",
       "      <td>966.11</td>\n",
       "      <td>Wales</td>\n",
       "      <td>AK</td>\n",
       "      <td>64.7556</td>\n",
       "      <td>-165.6723</td>\n",
       "      <td>145</td>\n",
       "      <td>\"Administrator, education\"</td>\n",
       "      <td>09-11-1939</td>\n",
       "      <td>a59185fe1b9ccf21323f581d7477573f</td>\n",
       "      <td>65.468863</td>\n",
       "      <td>-165.473127</td>\n",
       "      <td>1</td>\n",
       "    </tr>\n",
       "    <tr>\n",
       "      <th>2</th>\n",
       "      <td>04-01-2019 22:37</td>\n",
       "      <td>Wisozk and Sons</td>\n",
       "      <td>misc_pos</td>\n",
       "      <td>49.61</td>\n",
       "      <td>Wales</td>\n",
       "      <td>AK</td>\n",
       "      <td>64.7556</td>\n",
       "      <td>-165.6723</td>\n",
       "      <td>145</td>\n",
       "      <td>\"Administrator, education\"</td>\n",
       "      <td>09-11-1939</td>\n",
       "      <td>86ba3a888b42cd3925881fa34177b4e0</td>\n",
       "      <td>65.347667</td>\n",
       "      <td>-165.914542</td>\n",
       "      <td>1</td>\n",
       "    </tr>\n",
       "    <tr>\n",
       "      <th>3</th>\n",
       "      <td>04-01-2019 23:06</td>\n",
       "      <td>Murray-Smitham</td>\n",
       "      <td>grocery_pos</td>\n",
       "      <td>295.26</td>\n",
       "      <td>Wales</td>\n",
       "      <td>AK</td>\n",
       "      <td>64.7556</td>\n",
       "      <td>-165.6723</td>\n",
       "      <td>145</td>\n",
       "      <td>\"Administrator, education\"</td>\n",
       "      <td>09-11-1939</td>\n",
       "      <td>3a068fe1d856f0ecedbed33e4b5f4496</td>\n",
       "      <td>64.445035</td>\n",
       "      <td>-166.080207</td>\n",
       "      <td>1</td>\n",
       "    </tr>\n",
       "    <tr>\n",
       "      <th>4</th>\n",
       "      <td>04-01-2019 23:59</td>\n",
       "      <td>Friesen Lt</td>\n",
       "      <td>health_fitness</td>\n",
       "      <td>18.17</td>\n",
       "      <td>Wales</td>\n",
       "      <td>AK</td>\n",
       "      <td>64.7556</td>\n",
       "      <td>-165.6723</td>\n",
       "      <td>145</td>\n",
       "      <td>\"Administrator, education\"</td>\n",
       "      <td>09-11-1939</td>\n",
       "      <td>891cdd1191028759dc20dc224347a0ff</td>\n",
       "      <td>65.447094</td>\n",
       "      <td>-165.446843</td>\n",
       "      <td>1</td>\n",
       "    </tr>\n",
       "  </tbody>\n",
       "</table>\n",
       "</div>"
      ],
      "text/plain": [
       "  trans_date_trans_time                          merchant        category  \\\n",
       "0      04-01-2019 00:58  \"Stokes, Christiansen and Sipes\"     grocery_net   \n",
       "1      04-01-2019 15:06                      Predovic Inc    shopping_net   \n",
       "2      04-01-2019 22:37                   Wisozk and Sons        misc_pos   \n",
       "3      04-01-2019 23:06                    Murray-Smitham     grocery_pos   \n",
       "4      04-01-2019 23:59                        Friesen Lt  health_fitness   \n",
       "\n",
       "      amt   city state      lat      long  city_pop  \\\n",
       "0   14.37  Wales    AK  64.7556 -165.6723       145   \n",
       "1  966.11  Wales    AK  64.7556 -165.6723       145   \n",
       "2   49.61  Wales    AK  64.7556 -165.6723       145   \n",
       "3  295.26  Wales    AK  64.7556 -165.6723       145   \n",
       "4   18.17  Wales    AK  64.7556 -165.6723       145   \n",
       "\n",
       "                          job         dob                         trans_num  \\\n",
       "0  \"Administrator, education\"  09-11-1939  a3806e984cec6ac0096d8184c64ad3a1   \n",
       "1  \"Administrator, education\"  09-11-1939  a59185fe1b9ccf21323f581d7477573f   \n",
       "2  \"Administrator, education\"  09-11-1939  86ba3a888b42cd3925881fa34177b4e0   \n",
       "3  \"Administrator, education\"  09-11-1939  3a068fe1d856f0ecedbed33e4b5f4496   \n",
       "4  \"Administrator, education\"  09-11-1939  891cdd1191028759dc20dc224347a0ff   \n",
       "\n",
       "   merch_lat  merch_long is_fraud  \n",
       "0  65.654142 -164.722603        1  \n",
       "1  65.468863 -165.473127        1  \n",
       "2  65.347667 -165.914542        1  \n",
       "3  64.445035 -166.080207        1  \n",
       "4  65.447094 -165.446843        1  "
      ]
     },
     "execution_count": 13,
     "metadata": {},
     "output_type": "execute_result"
    }
   ],
   "source": [
    "# Dataset files\n",
    "\n",
    "# Define the file paths as Path objects\n",
    "fraud_data_csv = Path(\"fraud_data.csv\")\n",
    "fraud_data = pd.read_csv(fraud_data_csv, encoding=\"Latin1\")\n",
    "fraud_data.head()\n"
   ]
  },
  {
   "cell_type": "code",
   "execution_count": 14,
   "id": "299ce6ea",
   "metadata": {},
   "outputs": [
    {
     "data": {
      "text/plain": [
       "Index(['trans_date_trans_time', 'merchant', 'category', 'amt', 'city', 'state',\n",
       "       'lat', 'long', 'city_pop', 'job', 'dob', 'trans_num', 'merch_lat',\n",
       "       'merch_long', 'is_fraud'],\n",
       "      dtype='object')"
      ]
     },
     "execution_count": 14,
     "metadata": {},
     "output_type": "execute_result"
    }
   ],
   "source": [
    "fraud_data.columns"
   ]
  },
  {
   "cell_type": "code",
   "execution_count": 15,
   "id": "685bcc30",
   "metadata": {},
   "outputs": [
    {
     "name": "stdout",
     "output_type": "stream",
     "text": [
      "trans_date_trans_time    0\n",
      "merchant                 0\n",
      "category                 0\n",
      "amt                      0\n",
      "city                     0\n",
      "state                    0\n",
      "lat                      0\n",
      "long                     0\n",
      "city_pop                 0\n",
      "job                      0\n",
      "dob                      0\n",
      "trans_num                0\n",
      "merch_lat                0\n",
      "merch_long               0\n",
      "is_fraud                 0\n",
      "dtype: int64\n"
     ]
    }
   ],
   "source": [
    "missing_values = fraud_data.isnull().sum()\n",
    "print(missing_values)"
   ]
  },
  {
   "cell_type": "code",
   "execution_count": 16,
   "id": "0bcdd6a3",
   "metadata": {},
   "outputs": [
    {
     "name": "stdout",
     "output_type": "stream",
     "text": [
      "Original DataFrame shape: (14446, 15)\n",
      "Cleaned DataFrame shape: (14446, 15)\n",
      "  trans_date_trans_time                          merchant        category  \\\n",
      "0      04-01-2019 00:58  \"Stokes, Christiansen and Sipes\"     grocery_net   \n",
      "1      04-01-2019 15:06                      Predovic Inc    shopping_net   \n",
      "2      04-01-2019 22:37                   Wisozk and Sons        misc_pos   \n",
      "3      04-01-2019 23:06                    Murray-Smitham     grocery_pos   \n",
      "4      04-01-2019 23:59                        Friesen Lt  health_fitness   \n",
      "\n",
      "      amt   city state      lat      long  city_pop  \\\n",
      "0   14.37  Wales    AK  64.7556 -165.6723       145   \n",
      "1  966.11  Wales    AK  64.7556 -165.6723       145   \n",
      "2   49.61  Wales    AK  64.7556 -165.6723       145   \n",
      "3  295.26  Wales    AK  64.7556 -165.6723       145   \n",
      "4   18.17  Wales    AK  64.7556 -165.6723       145   \n",
      "\n",
      "                          job         dob                         trans_num  \\\n",
      "0  \"Administrator, education\"  09-11-1939  a3806e984cec6ac0096d8184c64ad3a1   \n",
      "1  \"Administrator, education\"  09-11-1939  a59185fe1b9ccf21323f581d7477573f   \n",
      "2  \"Administrator, education\"  09-11-1939  86ba3a888b42cd3925881fa34177b4e0   \n",
      "3  \"Administrator, education\"  09-11-1939  3a068fe1d856f0ecedbed33e4b5f4496   \n",
      "4  \"Administrator, education\"  09-11-1939  891cdd1191028759dc20dc224347a0ff   \n",
      "\n",
      "   merch_lat  merch_long is_fraud  \n",
      "0  65.654142 -164.722603        1  \n",
      "1  65.468863 -165.473127        1  \n",
      "2  65.347667 -165.914542        1  \n",
      "3  64.445035 -166.080207        1  \n",
      "4  65.447094 -165.446843        1  \n"
     ]
    }
   ],
   "source": [
    "# Drop rows with any missing values\n",
    "fraud_data_cleaned = fraud_data.dropna(how='any')\n",
    "\n",
    "# Verify the changes\n",
    "print(\"Original DataFrame shape:\", fraud_data.shape)\n",
    "print(\"Cleaned DataFrame shape:\", fraud_data_cleaned.shape)\n",
    "print(fraud_data_cleaned.head())"
   ]
  },
  {
   "cell_type": "code",
   "execution_count": 20,
   "id": "53ec3891",
   "metadata": {},
   "outputs": [
    {
     "name": "stdout",
     "output_type": "stream",
     "text": [
      "Number of duplicates after dropping: 0\n"
     ]
    }
   ],
   "source": [
    "# Drop duplicate rows\n",
    "fraud_data = fraud_data.drop_duplicates()\n",
    "\n",
    "# Verify that duplicates are removed\n",
    "print(f\"Number of duplicates after dropping: {fraud_data.duplicated().sum()}\")\n"
   ]
  },
  {
   "cell_type": "code",
   "execution_count": null,
   "id": "bc858740",
   "metadata": {},
   "outputs": [],
   "source": []
  }
 ],
 "metadata": {
  "kernelspec": {
   "display_name": "Python 3 (ipykernel)",
   "language": "python",
   "name": "python3"
  },
  "language_info": {
   "codemirror_mode": {
    "name": "ipython",
    "version": 3
   },
   "file_extension": ".py",
   "mimetype": "text/x-python",
   "name": "python",
   "nbconvert_exporter": "python",
   "pygments_lexer": "ipython3",
   "version": "3.11.7"
  }
 },
 "nbformat": 4,
 "nbformat_minor": 5
}
